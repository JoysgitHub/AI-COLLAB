{
  "nbformat": 4,
  "nbformat_minor": 0,
  "metadata": {
    "colab": {
      "provenance": [],
      "authorship_tag": "ABX9TyNI/SZGUoncOH+C0JypBTpp",
      "include_colab_link": true
    },
    "kernelspec": {
      "name": "python3",
      "display_name": "Python 3"
    },
    "language_info": {
      "name": "python"
    }
  },
  "cells": [
    {
      "cell_type": "markdown",
      "metadata": {
        "id": "view-in-github",
        "colab_type": "text"
      },
      "source": [
        "<a href=\"https://colab.research.google.com/github/JoysgitHub/AI-COLLAB/blob/main/iris_dataset_decision_tree.ipynb\" target=\"_parent\"><img src=\"https://colab.research.google.com/assets/colab-badge.svg\" alt=\"Open In Colab\"/></a>"
      ]
    },
    {
      "cell_type": "code",
      "execution_count": 2,
      "metadata": {
        "colab": {
          "base_uri": "https://localhost:8080/"
        },
        "id": "CRswxirNAjbH",
        "outputId": "6fce60c6-0be4-4c4a-d0b5-23d97149ec49"
      },
      "outputs": [
        {
          "output_type": "stream",
          "name": "stdout",
          "text": [
            "Test: 1\n"
          ]
        }
      ],
      "source": [
        "import numpy as np #numerical operations\n",
        "import pandas as pd #data manipulation and analysis\n",
        "import matplotlib.pyplot as plt #plotting library\n",
        "import seaborn as sns #data visulations\n",
        "from sklearn import datasets #provides datasets for machine learning\n",
        "\n",
        "from sklearn.tree import DecisionTreeClassifier #decision tree classifier algorithm\n",
        "from sklearn import metrics,accuracy_score, classification_report, confusion_matrix #evaluate the performance of machine learning\n"
      ]
    }
  ]
}